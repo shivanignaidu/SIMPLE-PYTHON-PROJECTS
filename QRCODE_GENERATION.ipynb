{
  "nbformat": 4,
  "nbformat_minor": 0,
  "metadata": {
    "colab": {
      "name": "QRCODE-GENERATION.ipynb",
      "provenance": []
    },
    "kernelspec": {
      "name": "python3",
      "display_name": "Python 3"
    },
    "language_info": {
      "name": "python"
    }
  },
  "cells": [
    {
      "cell_type": "code",
      "execution_count": 1,
      "metadata": {
        "colab": {
          "base_uri": "https://localhost:8080/"
        },
        "id": "ajXXeEnt5si9",
        "outputId": "4bd4556d-0d56-44e1-d30b-c4c8f11a8661"
      },
      "outputs": [
        {
          "output_type": "stream",
          "name": "stdout",
          "text": [
            "Collecting qrcode\n",
            "  Downloading qrcode-7.3.1.tar.gz (43 kB)\n",
            "\u001b[?25l\r\u001b[K     |███████▌                        | 10 kB 26.2 MB/s eta 0:00:01\r\u001b[K     |███████████████                 | 20 kB 30.6 MB/s eta 0:00:01\r\u001b[K     |██████████████████████▋         | 30 kB 15.7 MB/s eta 0:00:01\r\u001b[K     |██████████████████████████████▏ | 40 kB 11.4 MB/s eta 0:00:01\r\u001b[K     |████████████████████████████████| 43 kB 1.4 MB/s \n",
            "\u001b[?25hBuilding wheels for collected packages: qrcode\n",
            "  Building wheel for qrcode (setup.py) ... \u001b[?25l\u001b[?25hdone\n",
            "  Created wheel for qrcode: filename=qrcode-7.3.1-py3-none-any.whl size=40402 sha256=64a554fcbf9dbc5ffc1e454e84b5e2224e7c38e7c89e75dc0ff2e87b58052d72\n",
            "  Stored in directory: /root/.cache/pip/wheels/93/d7/39/a4111be2cfb8e679938aa671a37888b6afb1f9e7d748e94492\n",
            "Successfully built qrcode\n",
            "Installing collected packages: qrcode\n",
            "Successfully installed qrcode-7.3.1\n"
          ]
        }
      ],
      "source": [
        "pip install qrcode"
      ]
    },
    {
      "cell_type": "code",
      "source": [
        "import qrcode"
      ],
      "metadata": {
        "id": "ci67uY586qHl"
      },
      "execution_count": 2,
      "outputs": []
    },
    {
      "cell_type": "markdown",
      "source": [
        "YOUTUBE LINK TO QRCODE"
      ],
      "metadata": {
        "id": "Mkmajl-fAIpW"
      }
    },
    {
      "cell_type": "code",
      "source": [
        "img = qrcode.make(\"https://www.youtube.com/\")\n",
        "img.save(\"youtubeQR.jpg\")"
      ],
      "metadata": {
        "id": "QpK02bO860DQ"
      },
      "execution_count": 3,
      "outputs": []
    },
    {
      "cell_type": "code",
      "source": [
        "img"
      ],
      "metadata": {
        "colab": {
          "base_uri": "https://localhost:8080/",
          "height": 347
        },
        "id": "jGE5jQH67HrW",
        "outputId": "40c86228-707e-4e5d-cd60-0fef627b2d31"
      },
      "execution_count": 4,
      "outputs": [
        {
          "output_type": "execute_result",
          "data": {
            "image/png": "[encoded data removed]",
            "text/plain": [
              "<qrcode.image.pil.PilImage at 0x7f9c452f1050>"
            ]
          },
          "metadata": {},
          "execution_count": 4
        }
      ]
    },
    {
      "cell_type": "markdown",
      "source": [
        "ENCODING TEXT TO QR\n"
      ],
      "metadata": {
        "id": "mPvfeSVC-CgK"
      }
    },
    {
      "cell_type": "code",
      "source": [
        "import qrcode\n",
        "img = qrcode.make(\"India is a country with many religions. I love India.\")\n",
        "img.save(\"youtubeQR.jpg\")"
      ],
      "metadata": {
        "id": "vRmKdn_U-BN7"
      },
      "execution_count": 8,
      "outputs": []
    },
    {
      "cell_type": "code",
      "source": [
        "img"
      ],
      "metadata": {
        "colab": {
          "base_uri": "https://localhost:8080/",
          "height": 427
        },
        "id": "QtOKHmIF-N2N",
        "outputId": "e5459145-be5c-4512-c5eb-0e29d6fd4370"
      },
      "execution_count": 9,
      "outputs": [
        {
          "output_type": "execute_result",
          "data": {
            "image/png": "[encoded data removed]",
            "text/plain": [
              "<qrcode.image.pil.PilImage at 0x7f9c44ced290>"
            ]
          },
          "metadata": {},
          "execution_count": 9
        }
      ]
    },
    {
      "cell_type": "markdown",
      "source": [
        "DECODING"
      ],
      "metadata": {
        "id": "thxk5LP97bgU"
      }
    },
    {
      "cell_type": "code",
      "source": [
        "pip install opencv-python"
      ],
      "metadata": {
        "colab": {
          "base_uri": "https://localhost:8080/"
        },
        "id": "041aSVl58qgf",
        "outputId": "0a2d3c03-3201-46bc-a09b-87cdd9e1c657"
      },
      "execution_count": 6,
      "outputs": [
        {
          "output_type": "stream",
          "name": "stdout",
          "text": [
            "Requirement already satisfied: opencv-python in /usr/local/lib/python3.7/dist-packages (4.1.2.30)\n",
            "Requirement already satisfied: numpy>=1.14.5 in /usr/local/lib/python3.7/dist-packages (from opencv-python) (1.19.5)\n"
          ]
        }
      ]
    },
    {
      "cell_type": "code",
      "source": [
        "import cv2\n",
        "d = cv2.QRCodeDetector()\n",
        "val, _, _ = d.detectAndDecode(cv2.imread(\"youtubeQR.jpg\"))\n",
        "print(\"Decoded text is: \", val)"
      ],
      "metadata": {
        "colab": {
          "base_uri": "https://localhost:8080/"
        },
        "id": "9Y7atuqu7Z4e",
        "outputId": "ca3dfdfc-8736-47d8-cfb9-950ccf9cbcff"
      },
      "execution_count": 11,
      "outputs": [
        {
          "output_type": "stream",
          "name": "stdout",
          "text": [
            "Decoded text is:  India is a country with many religions. I love India.\n"
          ]
        }
      ]
    }
  ]
}